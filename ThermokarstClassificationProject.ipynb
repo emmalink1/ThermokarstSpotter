{
 "cells": [
  {
   "cell_type": "markdown",
   "id": "analyzed-format",
   "metadata": {},
   "source": [
    "# Thermokarst features as indicators of permafrost thaw in arctic landscapes \n",
    "\n",
    "Thermokarst features are topographic depressions created when permafrost thaws. Identifying thermokarst features in freely available satellite imagery and tracking changes in these features over time could give insights into landscape change dyanmics in a rapidly warming arctic. \n",
    "\n",
    "In the MVP for this project, we attempt to use a supervised machine learning model to classify thermokarst features in arctic landscapes. Our main objectives are: \n",
    "   1) Obtain RGB satellite imagery (Planet composite images, or maybe Sentinal or Landsat). \n",
    "   \n",
    "   2) Attempt to create training data using an unsupervised classification method. If this fails, we will use a supervised classification method.  \n",
    "   \n",
    "   3) Train a random forest regression model to identify thermokarst features. \n",
    "   \n",
    "   4) Create a data training mask and see how that improves model performance. \n",
    "\n",
    "For the final project, we will continue to build the training dataset to improve this model. We will also improve our classification model by integrating DEM and NDVI/NDWI information in the classification model. We will demonstrate the ability to calculate/identify thermokarst expansion using images classified under this model for different time periods, and will consider parallelizing parts of our workflow in order to allow for faster processing times of large amounts of spatial data. As time allows, we may investigate using output maps of landscape change to predict future change under warming scenarios.  "
   ]
  },
  {
   "cell_type": "markdown",
   "id": "adjusted-entrance",
   "metadata": {},
   "source": [
    "## Resources and references used\n",
    "\n",
    "### Spatial Science tutorials\n",
    "[Tutorial: Land classification with machine learning](https://geohackweek.github.io/machine-learning/03-landclass/) - includes random forest and SVM models \n",
    "\n",
    "[Tutorial: landcover classification of satellite imagery using CNNs](https://towardsdatascience.com/land-cover-classification-of-satellite-imagery-using-convolutional-neural-networks-91b5bb7fe808) \n",
    "\n",
    "[Tutorial: Image processing with Python: Unsupervised Learning for image segementation](https://towardsdatascience.com/image-processing-with-python-unsupervised-learning-for-image-segmentation-90ebd23d91a4)\n",
    "\n",
    "### References\n",
    "[Machine learning in modelling land-use and land cover-change (LULCC): Current status, challenges and prospects](https://www.sciencedirect.com/science/article/abs/pii/S0048969722006519#f0050)\n"
   ]
  },
  {
   "cell_type": "markdown",
   "id": "universal-child",
   "metadata": {},
   "source": [
    "## Library Import"
   ]
  },
  {
   "cell_type": "code",
   "execution_count": null,
   "id": "exterior-ocean",
   "metadata": {},
   "outputs": [],
   "source": [
    "%matplotlib inline\n",
    "import matplotlib\n",
    "import numpy as np\n",
    "import matplotlib.pyplot as plt\n",
    "\n",
    "import os \n",
    "\n",
    "#we will use RandomForestClassifier\n",
    "from sklearn.ensemble import RandomForestClassifier"
   ]
  },
  {
   "cell_type": "markdown",
   "id": "cosmetic-photography",
   "metadata": {},
   "source": [
    "## Raster to mosaic files"
   ]
  },
  {
   "cell_type": "code",
   "execution_count": null,
   "id": "vietnamese-lunch",
   "metadata": {},
   "outputs": [],
   "source": [
    "import tarfile # for reading in the tar files \n",
    "\n",
    "# rasters to mosaic \n",
    "from rasterio.plot import show\n",
    "from rasterio.merge import merge\n",
    "import rasterio as rio\n",
    "from pathlib import Path"
   ]
  },
  {
   "cell_type": "code",
   "execution_count": null,
   "id": "rolled-holder",
   "metadata": {},
   "outputs": [],
   "source": [
    "# unzip tar file\n",
    "# open file\n",
    "file = tarfile.open(\"./Data/LC08_L1TP_071011_20220812_20220824_02_T1.tar\")\n",
    "  \n",
    "# extracting file\n",
    "file.extractall('./Data/LC08_L1TP_071011_20220812_20220824_02_T1')\n",
    "  \n",
    "file.close()"
   ]
  },
  {
   "cell_type": "code",
   "execution_count": null,
   "id": "every-europe",
   "metadata": {},
   "outputs": [],
   "source": [
    "# rasters to mosaic file\n",
    "#https://medium.com/spatial-data-science/how-to-mosaic-merge-raster-data-in-python-fb18e44f3c8\n",
    "\n",
    "#physically moved the bands that I wanted into their own folder - fix that later! \n",
    "path = Path('./Data/LC08_L1TP_071011_20220812_20220824_02_T1/Bands/')\n",
    "Path('output').mkdir(parents=True, exist_ok=True)\n",
    "output_path = 'output/LC08_L1TP_071011_20220812_20220824_02_T1_mosaic_output.tif'\n",
    "\n",
    "raster_files = list(path.iterdir())\n",
    "raster_to_mosiac = []\n",
    "\n",
    "# append on all of the rasters that we want\n",
    "for p in raster_files:\n",
    "    raster = rio.open(p)\n",
    "    raster_to_mosiac.append(raster)\n",
    "\n",
    "# merge \n",
    "mosaic, output = merge(raster_to_mosiac)\n",
    "\n",
    "# Copy metadata\n",
    "output_meta = raster.meta.copy()\n",
    "output_meta.update(\n",
    "    {\"driver\": \"GTiff\",\n",
    "        \"height\": mosaic.shape[1],\n",
    "        \"width\": mosaic.shape[2],\n",
    "        \"transform\": output,\n",
    "    }\n",
    ")\n"
   ]
  },
  {
   "cell_type": "code",
   "execution_count": null,
   "id": "assigned-drilling",
   "metadata": {},
   "outputs": [],
   "source": [
    "with rio.open(output_path,\"w\", **output_meta) as m:\n",
    "    m.write(mosaic)"
   ]
  },
  {
   "cell_type": "markdown",
   "id": "popular-castle",
   "metadata": {},
   "source": [
    "## Unsupervised land classification python"
   ]
  },
  {
   "cell_type": "code",
   "execution_count": null,
   "id": "unnecessary-platform",
   "metadata": {},
   "outputs": [],
   "source": [
    "conda install -c conda-forge gdal"
   ]
  },
  {
   "cell_type": "code",
   "execution_count": null,
   "id": "statutory-brain",
   "metadata": {},
   "outputs": [],
   "source": [
    "# the libraries\n",
    "from sklearn.cluster import KMeans\n",
    "import gdal\n",
    "import numpy as np"
   ]
  },
  {
   "cell_type": "code",
   "execution_count": null,
   "id": "intended-redhead",
   "metadata": {},
   "outputs": [],
   "source": [
    "# read in image to classify with gdal\n",
    "naip_fn = './output/LC08_L1TP_071011_20220812_20220824_02_T1_mosaic_output.tif'\n",
    "driverTiff = gdal.GetDriverByName('GTiff')\n",
    "naip_ds = gdal.Open(naip_fn)\n",
    "nbands = naip_ds.RasterCount"
   ]
  },
  {
   "cell_type": "code",
   "execution_count": null,
   "id": "wrapped-fighter",
   "metadata": {},
   "outputs": [],
   "source": []
  }
 ],
 "metadata": {
  "kernelspec": {
   "display_name": "Python3.8.3",
   "language": "python",
   "name": "python3.8.3"
  },
  "language_info": {
   "codemirror_mode": {
    "name": "ipython",
    "version": 3
   },
   "file_extension": ".py",
   "mimetype": "text/x-python",
   "name": "python",
   "nbconvert_exporter": "python",
   "pygments_lexer": "ipython3",
   "version": "3.8.3"
  }
 },
 "nbformat": 4,
 "nbformat_minor": 5
}
