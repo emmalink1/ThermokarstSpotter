{
 "cells": [
  {
   "cell_type": "markdown",
   "id": "compliant-statistics",
   "metadata": {},
   "source": [
    "# Thermokarst features as indicators of permafrost thaw in arctic landscapes \n",
    "\n",
    "Thermokarst features are topographic depressions created when permafrost thaws. Identifying thermokarst features in freely available satellite imagery and tracking changes in these features over time could give insights into landscape change dyanmics in a rapidly warming arctic. \n",
    "\n",
    "In the MVP for this project, we attempt to use a supervised machine learning model to classify thermokarst features in arctic landscapes. Our main objectives are: \n",
    "   1) Obtain RGB satellite imagery (Planet composite images or Landsat). \n",
    "   \n",
    "   2) Attempt to classify image using an unsupervised classification method. \n",
    "   \n",
    "   3) Train a random forest regression model to identify thermokarst features. \n",
    "   \n",
    "   4) Create a data training mask and see how that improves model performance. \n",
    "\n",
    "For the final project, we will continue to build the training dataset to improve this model. We will also improve our classification model by integrating DEM and NDVI/NDWI information in the classification model. We will demonstrate the ability to calculate/identify thermokarst expeansion using images classified under this model for different time periods. As time allows, we may investigate using output maps of landscape change to predict future change under warming scenarios.  "
   ]
  },
  {
   "cell_type": "markdown",
   "id": "invisible-unknown",
   "metadata": {},
   "source": [
    "## Resources and references used\n",
    "\n",
    "### Spatial Science tutorials\n",
    "[Tutorial: Land classification with machine learning](https://geohackweek.github.io/machine-learning/03-landclass/)\n",
    "\n",
    "### References\n",
    "[Machine learning in modelling land-use and land cover-change (LULCC): Current status, challenges and prospects](https://www.sciencedirect.com/science/article/abs/pii/S0048969722006519#f0050)\n"
   ]
  },
  {
   "cell_type": "markdown",
   "id": "italian-growth",
   "metadata": {},
   "source": [
    "## Contents\n",
    "\n"
   ]
  },
  {
   "cell_type": "code",
   "execution_count": null,
   "id": "unusual-pittsburgh",
   "metadata": {},
   "outputs": [],
   "source": []
  }
 ],
 "metadata": {
  "kernelspec": {
   "display_name": "Python3.8.3",
   "language": "python",
   "name": "python3.8.3"
  },
  "language_info": {
   "codemirror_mode": {
    "name": "ipython",
    "version": 3
   },
   "file_extension": ".py",
   "mimetype": "text/x-python",
   "name": "python",
   "nbconvert_exporter": "python",
   "pygments_lexer": "ipython3",
   "version": "3.8.3"
  }
 },
 "nbformat": 4,
 "nbformat_minor": 5
}
